{
 "cells": [
  {
   "cell_type": "code",
   "execution_count": 3,
   "id": "0e28232e-627d-48bb-86e0-cfeeb8f4f2f3",
   "metadata": {},
   "outputs": [],
   "source": [
    "#!pip install orange3"
   ]
  },
  {
   "cell_type": "code",
   "execution_count": 4,
   "id": "3a6af0f2-bfcd-448c-a369-950aca23e35b",
   "metadata": {},
   "outputs": [],
   "source": [
    "#!pip install PyQt5 PyQtWebEngine"
   ]
  },
  {
   "cell_type": "code",
   "execution_count": 5,
   "id": "cb9a485f-31ec-410d-9077-93d83c37f6bb",
   "metadata": {},
   "outputs": [],
   "source": [
    "#!pip install orange3"
   ]
  },
  {
   "cell_type": "raw",
   "id": "b1bdd9b2-83fc-48bf-83d6-dcc477d33e24",
   "metadata": {},
   "source": [
    "!python -m Orange.canvas"
   ]
  },
  {
   "cell_type": "code",
   "execution_count": 15,
   "id": "20f17954-ebff-423f-977b-3718a6836b0c",
   "metadata": {},
   "outputs": [
    {
     "data": {
      "text/plain": [
       "Index(['B'], dtype='object')"
      ]
     },
     "execution_count": 15,
     "metadata": {},
     "output_type": "execute_result"
    }
   ],
   "source": [
    "year_columns = df.columns[2:]  # Assuming first two columns are Country and Currency\n",
    "year_columns"
   ]
  },
  {
   "cell_type": "code",
   "execution_count": 27,
   "id": "1044d922-1d3a-43b2-a67d-7a93fdd4ffa7",
   "metadata": {},
   "outputs": [
    {
     "name": "stdout",
     "output_type": "stream",
     "text": [
      "Index([2000, 2001, 2002, 2003, 2004, 2005, 2006, 2007], dtype='object')\n"
     ]
    },
    {
     "name": "stderr",
     "output_type": "stream",
     "text": [
      "edit: index was invalid\n",
      "edit: editing failed\n",
      "edit: index was invalid\n",
      "edit: editing failed\n",
      "edit: editing failed\n",
      "edit: editing failed\n",
      "edit: editing failed\n",
      "2025-02-17 18:55:48,662:ERROR:qasync._QEventLoop: Task exception was never retrieved\n",
      "future: <Task finished name='Task-1' coro=<CanvasMainWindow.whatsThisClickedEvent.<locals>.run() done, defined at C:\\Users\\gassaf\\.conda\\envs\\conda_lau310\\lib\\site-packages\\orangecanvas\\application\\canvasmain.py:2416> exception=TimeoutError()>\n",
      "Traceback (most recent call last):\n",
      "  File \"C:\\Users\\gassaf\\.conda\\envs\\conda_lau310\\lib\\asyncio\\tasks.py\", line 456, in wait_for\n",
      "    return fut.result()\n",
      "asyncio.exceptions.CancelledError\n",
      "\n",
      "The above exception was the direct cause of the following exception:\n",
      "\n",
      "Traceback (most recent call last):\n",
      "  File \"C:\\Users\\gassaf\\.conda\\envs\\conda_lau310\\lib\\site-packages\\orangecanvas\\application\\canvasmain.py\", line 2419, in run\n",
      "    url = await query_coro\n",
      "  File \"C:\\Users\\gassaf\\.conda\\envs\\conda_lau310\\lib\\site-packages\\orangecanvas\\help\\manager.py\", line 125, in search_async\n",
      "    return await provider.search_async(desc, timeout=timeout)\n",
      "  File \"C:\\Users\\gassaf\\.conda\\envs\\conda_lau310\\lib\\site-packages\\orangecanvas\\help\\provider.py\", line 133, in search_async\n",
      "    await asyncio.wait_for(reply_f, timeout)\n",
      "  File \"C:\\Users\\gassaf\\.conda\\envs\\conda_lau310\\lib\\asyncio\\tasks.py\", line 458, in wait_for\n",
      "    raise exceptions.TimeoutError() from exc\n",
      "asyncio.exceptions.TimeoutError\n",
      "edit: editing failed\n",
      "edit: editing failed\n",
      "edit: editing failed\n",
      "edit: editing failed\n",
      "qt.qpa.mime: Retrying to obtain clipboard.\n",
      "qt.qpa.mime: Retrying to obtain clipboard.\n",
      "qt.qpa.mime: Retrying to obtain clipboard.\n",
      "qt.qpa.mime: Retrying to obtain clipboard.\n",
      "qt.qpa.mime: Retrying to obtain clipboard.\n",
      "qt.qpa.mime: Retrying to obtain clipboard.\n"
     ]
    }
   ],
   "source": [
    "import pandas as pd\n",
    "\n",
    "# Load the dataset (Replace 'your_file.xlsx' with your actual file)\n",
    "df = pd.read_excel(\"CountryExpenditures_WideFormat.xlsx\")\n",
    "\n",
    "year_columns = df.columns[2:]  # Assuming first two columns are Country and Currency\n",
    "\n",
    "# Convert wide format to long format\n",
    "long_df = df.melt(id_vars=[\"Country\", \"Currency\"],value_vars=year_columns)\n",
    "\n",
    "# Save the transformed data\n",
    "long_df.to_excel(\"long_format_CountryExpenditures.xlsx\", index=False)\n",
    "\n",
    "# Display the first few rows\n",
    "long_df.head()"
   ]
  },
  {
   "cell_type": "code",
   "execution_count": null,
   "id": "ae2fba10-c85f-4bb0-86f3-07b1a3ccfaba",
   "metadata": {},
   "outputs": [],
   "source": []
  }
 ],
 "metadata": {
  "kernelspec": {
   "display_name": "Python 3 (ipykernel)",
   "language": "python",
   "name": "python3"
  },
  "language_info": {
   "codemirror_mode": {
    "name": "ipython",
    "version": 3
   },
   "file_extension": ".py",
   "mimetype": "text/x-python",
   "name": "python",
   "nbconvert_exporter": "python",
   "pygments_lexer": "ipython3",
   "version": "3.10.13"
  }
 },
 "nbformat": 4,
 "nbformat_minor": 5
}
